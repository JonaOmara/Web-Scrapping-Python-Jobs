{
    "metadata": {
        "kernelspec": {
            "name": "python3",
            "display_name": "Python 3",
            "language": "python"
        },
        "language_info": {
            "name": "python",
            "version": "3.8.10",
            "mimetype": "text/x-python",
            "codemirror_mode": {
                "name": "ipython",
                "version": 3
            },
            "pygments_lexer": "ipython3",
            "nbconvert_exporter": "python",
            "file_extension": ".py"
        }
    },
    "nbformat_minor": 2,
    "nbformat": 4,
    "cells": [
        {
            "cell_type": "markdown",
            "source": [
                "# The Free Python Job Board\n",
                "\n",
                "## Task : Web scrapping a static website\n",
                "\n",
                "In this exercise, we aim to implement a web scraping script to systematically retrieve all Python-related job listings from the [Pythonjobs](.\\pythonjobs.github.io) website. To accomplish this, we will utilize the `requests` library to handle the HTTP communication with the website, allowing us to fetch the page content. Subsequently, we will employ the `BeautifulSoup`, `SoupStrainer` library from `bs4` to parse the HTML content and extract the relevant job data based on predefined HTML tags and attributes. Finally, for the purpose of organizing and displaying the extracted data in a structured and readable format, we will leverage the `pandas` library to create a DataFrame. This DataFrame will then be used to generate a tabular representation of the job listings, which can be further manipulated or analyzed as required."
            ],
            "metadata": {
                "azdata_cell_guid": "06e71cfb-2afc-4e14-ad1a-af913efe89e1"
            },
            "attachments": {}
        },
        {
            "cell_type": "markdown",
            "source": [
                "### Importing Packages \r\n",
                "1. Pandas \r\n",
                "2. Requests\r\n",
                "3. BeautifulSoup"
            ],
            "metadata": {
                "language": "python",
                "azdata_cell_guid": "d0caee9e-836b-4bbd-852b-eaaf5082945a"
            },
            "attachments": {}
        },
        {
            "cell_type": "code",
            "source": [
                "import pandas as pd\r\n",
                "from bs4 import BeautifulSoup, SoupStrainer\r\n",
                "import requests"
            ],
            "metadata": {
                "azdata_cell_guid": "df3aafe3-ec04-42db-bce6-8bffbe87e014",
                "language": "python"
            },
            "outputs": [],
            "execution_count": 2
        },
        {
            "cell_type": "markdown",
            "source": [
                "### Scrape Web Content and Parse HTML Code\r\n",
                "\r\n",
                "`SoupStrainer` is a class provided by the Beautiful Soup library in Python. It allows you to parse only certain parts of an incoming document, which can be particularly useful when dealing with large HTML or XML files. By creating a `SoupStrainer` object, you can specify the criteria for the parts of the document you want to parse, such as specific tags, attributes, or strings. This selective parsing can lead to significant efficiency improvements, as it reduces the amount of data that needs to be processed.\r\n",
                "\r\n",
                "Here's a brief overview of how `SoupStrainer` works:\r\n",
                "- You define a `SoupStrainer` by specifying the conditions that match the elements you want to parse. These conditions can be based on tag names, attributes, or string content.\r\n",
                "- When you create a `BeautifulSoup` object, you pass the `SoupStrainer` object as the `parse_only` argument.\r\n",
                "- Beautiful Soup will then parse only the parts of the document that match the criteria defined in the `SoupStrainer`, ignoring the rest.\r\n",
                "\r\n",
                ""
            ],
            "metadata": {
                "language": "python",
                "azdata_cell_guid": "2f704a47-f1c1-40e8-8cbd-38ee961c6474"
            },
            "attachments": {}
        },
        {
            "cell_type": "code",
            "source": [
                "#Define the url\r\n",
                "url = \"https://pythonjobs.github.io/\"\r\n",
                "#Send an HTTP request\r\n",
                "pages = requests.get(url)\r\n",
                "#Parse only the 'section' tag\r\n",
                "only_section_tags = SoupStrainer(\"section\")\r\n",
                "\r\n",
                "#Check if HTTP Request was successful and the parse \r\n",
                "if pages.status_code == 200:\r\n",
                "    soup = BeautifulSoup(pages.content,\"html.parser\",parse_only=only_section_tags)"
            ],
            "metadata": {
                "azdata_cell_guid": "58afbcc2-5989-43c2-9f0b-f0668818b4c6",
                "language": "python"
            },
            "outputs": [],
            "execution_count": 21
        },
        {
            "cell_type": "markdown",
            "source": [
                "### Extract Attributes from HTML elements "
            ],
            "metadata": {
                "language": "python",
                "azdata_cell_guid": "ed4ebd1e-730b-4274-a9f0-04da91225d4e"
            },
            "attachments": {}
        },
        {
            "cell_type": "code",
            "source": [
                "for element in soup.find_all(\"div\",class_=\"job\")[:2]:\r\n",
                "    #Get all other details except the job title \r\n",
                "    oth_details = element.find_all(\"span\")\r\n",
                "    #print job title\r\n",
                "    print(element.h1.text.strip())\r\n",
                "    print()\r\n",
                "    #Job description \r\n",
                "    print(element.p.text.strip())\r\n",
                "    \r\n",
                "    #print other details \r\n",
                "    print(oth_details[0].text.strip())#location\r\n",
                "    print(oth_details[1].text.strip())#Posting date\r\n",
                "    print(oth_details[2].text.strip())#Contract type\r\n",
                "    print(oth_details[3].text.strip())#Company\r\n",
                "    #get application url\r\n",
                "    print(url+ element.a[\"href\"])\r\n",
                "    print(\"--------------------------------------------\")"
            ],
            "metadata": {
                "azdata_cell_guid": "a1bebd63-d1d2-4d1c-af95-0fc187b2aa04",
                "language": "python",
                "tags": []
            },
            "outputs": [
                {
                    "output_type": "stream",
                    "name": "stdout",
                    "text": "Strats Python Developer\n\nOverview HBK is searching for a Python software developer to join our Strats team in London on a full-time basis. The Strats group works closely and primarily with investment professionals in all our offices to help...\nLondon, UK\nThu, 06 Oct 2022\nPermanent\nHBK Europe Management LLP\nhttps://pythonjobs.github.io//jobs/hbk-strats-developer.html\n--------------------------------------------\nPython Software Developer\n\nWe’re hiring a Python Software Developer to join our interdisciplinary team, working with data publishers and users. To find out more about this role and working at Open Data Services check out this twitter thread....\nRemote, UK-only\nThu, 23 Jun 2022\npermanent\nOpen Data Services Co-operative\nhttps://pythonjobs.github.io//jobs/open-data-services-co-operative-python-software-developer.html\n--------------------------------------------\n"
                }
            ],
            "execution_count": 71
        },
        {
            "cell_type": "markdown",
            "source": [
                "### Creating a dataframe "
            ],
            "metadata": {
                "language": "python",
                "azdata_cell_guid": "9a03cd45-6dbd-4d5c-b600-14f1718f866c"
            },
            "attachments": {}
        },
        {
            "cell_type": "code",
            "source": [
                "#create table\r\n",
                "job_listings = pd.DataFrame()\r\n",
                "\r\n",
                "#Create empty lists to hold the different elements\r\n",
                "job_title = []\r\n",
                "job_desc = []\r\n",
                "job_location = []\r\n",
                "job_posting_date =[]\r\n",
                "job_contract_type = []\r\n",
                "job_company = []\r\n",
                "job_url =[]\r\n",
                "\r\n",
                "for element in soup.find_all(\"div\",class_=\"job\"):\r\n",
                "    oth_details = element.find_all(\"span\")\r\n",
                "    job_title.append(element.h1.text.strip())\r\n",
                "    job_desc.append(element.p.text.strip())\r\n",
                "    job_location.append(oth_details[0].text.strip())\r\n",
                "    job_posting_date.append(oth_details[1].text.strip())#Posting date\r\n",
                "    job_contract_type.append(oth_details[2].text.strip())#Contract type\r\n",
                "    job_company.append(oth_details[3].text.strip())#Company\r\n",
                "    job_url.append(url+ element.a[\"href\"])\r\n",
                "    \r\n",
                "#Add data to our dataframe\r\n",
                "job_listings[\"Title\"] = job_title\r\n",
                "job_listings[\"Company\"] = job_company\r\n",
                "job_listings[\"Description\"] = job_desc\r\n",
                "job_listings[\"location\"] = job_location\r\n",
                "job_listings[\"Contract Type\"] = job_contract_type\r\n",
                "job_listings[\"Posting Date\"] = job_posting_date\r\n",
                "job_listings[\"Link\"] = job_url\r\n",
                "\r\n",
                "#View \r\n",
                "job_listings.head()"
            ],
            "metadata": {
                "language": "python",
                "azdata_cell_guid": "efd322a1-01ef-479f-bbc2-d7273659c54c"
            },
            "outputs": [
                {
                    "output_type": "execute_result",
                    "execution_count": 72,
                    "data": {
                        "text/plain": "                                         Title  \\\n0                      Strats Python Developer   \n1                    Python Software Developer   \n2  Senior Software Engineer, Back-End (Remote)   \n3                      Python Backend Engineer   \n4                      Senior Backend Engineer   \n\n                           Company  \\\n0        HBK Europe Management LLP   \n1  Open Data Services Co-operative   \n2                         Oomnitza   \n3                             BMAT   \n4                             BMAT   \n\n                                         Description                 location  \\\n0  Overview HBK is searching for a Python softwar...               London, UK   \n1  We’re hiring a Python Software Developer to jo...          Remote, UK-only   \n2  Oomnitza offers enterprise IT a unique solutio...  Galway, Ireland, Remote   \n3  What you’ll be doing In the Data team we want ...                   Remote   \n4  What you’ll be doing BMAT is teaming up with a...                   Remote   \n\n  Contract Type      Posting Date  \\\n0     Permanent  Thu, 06 Oct 2022   \n1     permanent  Thu, 23 Jun 2022   \n2     permanent  Wed, 30 Mar 2022   \n3     Permanent  Tue, 23 Nov 2021   \n4     Permanent  Tue, 23 Nov 2021   \n\n                                                Link  \n0  https://pythonjobs.github.io//jobs/hbk-strats-...  \n1  https://pythonjobs.github.io//jobs/open-data-s...  \n2  https://pythonjobs.github.io//jobs/oomnitza-ba...  \n3  https://pythonjobs.github.io//jobs/bmat-python...  \n4  https://pythonjobs.github.io//jobs/bmat-senior...  ",
                        "text/html": "<div>\n<style scoped>\n    .dataframe tbody tr th:only-of-type {\n        vertical-align: middle;\n    }\n\n    .dataframe tbody tr th {\n        vertical-align: top;\n    }\n\n    .dataframe thead th {\n        text-align: right;\n    }\n</style>\n<table border=\"1\" class=\"dataframe\">\n  <thead>\n    <tr style=\"text-align: right;\">\n      <th></th>\n      <th>Title</th>\n      <th>Company</th>\n      <th>Description</th>\n      <th>location</th>\n      <th>Contract Type</th>\n      <th>Posting Date</th>\n      <th>Link</th>\n    </tr>\n  </thead>\n  <tbody>\n    <tr>\n      <th>0</th>\n      <td>Strats Python Developer</td>\n      <td>HBK Europe Management LLP</td>\n      <td>Overview HBK is searching for a Python softwar...</td>\n      <td>London, UK</td>\n      <td>Permanent</td>\n      <td>Thu, 06 Oct 2022</td>\n      <td>https://pythonjobs.github.io//jobs/hbk-strats-...</td>\n    </tr>\n    <tr>\n      <th>1</th>\n      <td>Python Software Developer</td>\n      <td>Open Data Services Co-operative</td>\n      <td>We’re hiring a Python Software Developer to jo...</td>\n      <td>Remote, UK-only</td>\n      <td>permanent</td>\n      <td>Thu, 23 Jun 2022</td>\n      <td>https://pythonjobs.github.io//jobs/open-data-s...</td>\n    </tr>\n    <tr>\n      <th>2</th>\n      <td>Senior Software Engineer, Back-End (Remote)</td>\n      <td>Oomnitza</td>\n      <td>Oomnitza offers enterprise IT a unique solutio...</td>\n      <td>Galway, Ireland, Remote</td>\n      <td>permanent</td>\n      <td>Wed, 30 Mar 2022</td>\n      <td>https://pythonjobs.github.io//jobs/oomnitza-ba...</td>\n    </tr>\n    <tr>\n      <th>3</th>\n      <td>Python Backend Engineer</td>\n      <td>BMAT</td>\n      <td>What you’ll be doing In the Data team we want ...</td>\n      <td>Remote</td>\n      <td>Permanent</td>\n      <td>Tue, 23 Nov 2021</td>\n      <td>https://pythonjobs.github.io//jobs/bmat-python...</td>\n    </tr>\n    <tr>\n      <th>4</th>\n      <td>Senior Backend Engineer</td>\n      <td>BMAT</td>\n      <td>What you’ll be doing BMAT is teaming up with a...</td>\n      <td>Remote</td>\n      <td>Permanent</td>\n      <td>Tue, 23 Nov 2021</td>\n      <td>https://pythonjobs.github.io//jobs/bmat-senior...</td>\n    </tr>\n  </tbody>\n</table>\n</div>"
                    },
                    "metadata": {}
                }
            ],
            "execution_count": 72
        },
        {
            "cell_type": "markdown",
            "source": [
                "### Putting it all together"
            ],
            "metadata": {
                "language": "python",
                "azdata_cell_guid": "1808c0db-cff0-4c65-b390-cfc3ce3d308f"
            },
            "attachments": {}
        },
        {
            "cell_type": "code",
            "source": [
                "import pandas as pd\r\n",
                "from bs4 import BeautifulSoup, SoupStrainer\r\n",
                "import requests\r\n",
                "from IPython.display import HTML\r\n",
                "\r\n",
                "url = \"https://pythonjobs.github.io/\"\r\n",
                "pages = requests.get(url)\r\n",
                "only_section_tags = SoupStrainer(\"section\")\r\n",
                "\r\n",
                "if pages.status_code == 200:\r\n",
                "    soup = BeautifulSoup(pages.content,\"html.parser\",parse_only=only_section_tags)\r\n",
                "\r\n",
                "\r\n",
                "job_listings = pd.DataFrame()\r\n",
                "\r\n",
                "job_title = []\r\n",
                "job_desc = []\r\n",
                "job_location = []\r\n",
                "job_posting_date =[]\r\n",
                "job_contract_type = []\r\n",
                "job_company = []\r\n",
                "job_url =[]\r\n",
                "\r\n",
                "for element in soup.find_all(\"div\",class_=\"job\"):\r\n",
                "    oth_details = element.find_all(\"span\")\r\n",
                "    job_title.append(element.h1.text.strip())\r\n",
                "    job_desc.append(element.p.text.strip())\r\n",
                "    job_location.append(oth_details[0].text.strip())\r\n",
                "    job_posting_date.append(oth_details[1].text.strip())\r\n",
                "    job_contract_type.append(oth_details[2].text.strip())\r\n",
                "    job_company.append(oth_details[3].text.strip())\r\n",
                "    job_url.append(url+ element.a[\"href\"])\r\n",
                "\r\n",
                "\r\n",
                "\r\n",
                "    \r\n",
                "job_listings[\"Title\"] = job_title\r\n",
                "job_listings[\"Company\"] = job_company\r\n",
                "job_listings[\"Description\"] = job_desc\r\n",
                "job_listings[\"location\"] = job_location\r\n",
                "job_listings[\"Contract Type\"] = job_contract_type\r\n",
                "job_listings[\"Posting Date\"] = job_posting_date\r\n",
                "job_listings[\"Link\"] = job_url\r\n",
                "\r\n",
                "\r\n",
                "# Define a function to make URLs clickable\r\n",
                "def make_clickable(val):\r\n",
                "    return f'<a target=\"_blank\" href=\"{val}\">{val}</a>'\r\n",
                "\r\n",
                "# Apply the function to the 'url' column to make it clickable\r\n",
                "df_styled = job_listings.style.format({'Link': make_clickable})\r\n",
                "\r\n",
                "# Render the DataFrame as HTML\r\n",
                "HTML(df_styled.to_html(escape=False))\r\n",
                "\r\n",
                "\r\n",
                "# # #View \r\n",
                "# job_listings.head()"
            ],
            "metadata": {
                "language": "python",
                "azdata_cell_guid": "5760bba7-6d59-4f9e-9a19-95bb09492012"
            },
            "outputs": [
                {
                    "data": {
                        "text/plain": "<IPython.core.display.HTML object>",
                        "text/html": "<style type=\"text/css\">\n</style>\n<table id=\"T_958af\">\n  <thead>\n    <tr>\n      <th class=\"blank level0\" >&nbsp;</th>\n      <th id=\"T_958af_level0_col0\" class=\"col_heading level0 col0\" >Title</th>\n      <th id=\"T_958af_level0_col1\" class=\"col_heading level0 col1\" >Company</th>\n      <th id=\"T_958af_level0_col2\" class=\"col_heading level0 col2\" >Description</th>\n      <th id=\"T_958af_level0_col3\" class=\"col_heading level0 col3\" >location</th>\n      <th id=\"T_958af_level0_col4\" class=\"col_heading level0 col4\" >Contract Type</th>\n      <th id=\"T_958af_level0_col5\" class=\"col_heading level0 col5\" >Posting Date</th>\n      <th id=\"T_958af_level0_col6\" class=\"col_heading level0 col6\" >Link</th>\n    </tr>\n  </thead>\n  <tbody>\n    <tr>\n      <th id=\"T_958af_level0_row0\" class=\"row_heading level0 row0\" >0</th>\n      <td id=\"T_958af_row0_col0\" class=\"data row0 col0\" >Strats Python Developer</td>\n      <td id=\"T_958af_row0_col1\" class=\"data row0 col1\" >HBK Europe Management LLP</td>\n      <td id=\"T_958af_row0_col2\" class=\"data row0 col2\" >Overview HBK is searching for a Python software developer to join our Strats team in London on a full-time basis. The Strats group works closely and primarily with investment professionals in all our offices to help...</td>\n      <td id=\"T_958af_row0_col3\" class=\"data row0 col3\" >London, UK</td>\n      <td id=\"T_958af_row0_col4\" class=\"data row0 col4\" >Permanent</td>\n      <td id=\"T_958af_row0_col5\" class=\"data row0 col5\" >Thu, 06 Oct 2022</td>\n      <td id=\"T_958af_row0_col6\" class=\"data row0 col6\" ><a target=\"_blank\" href=\"https://pythonjobs.github.io//jobs/hbk-strats-developer.html\">https://pythonjobs.github.io//jobs/hbk-strats-developer.html</a></td>\n    </tr>\n    <tr>\n      <th id=\"T_958af_level0_row1\" class=\"row_heading level0 row1\" >1</th>\n      <td id=\"T_958af_row1_col0\" class=\"data row1 col0\" >Python Software Developer</td>\n      <td id=\"T_958af_row1_col1\" class=\"data row1 col1\" >Open Data Services Co-operative</td>\n      <td id=\"T_958af_row1_col2\" class=\"data row1 col2\" >We’re hiring a Python Software Developer to join our interdisciplinary team, working with data publishers and users. To find out more about this role and working at Open Data Services check out this twitter thread....</td>\n      <td id=\"T_958af_row1_col3\" class=\"data row1 col3\" >Remote, UK-only</td>\n      <td id=\"T_958af_row1_col4\" class=\"data row1 col4\" >permanent</td>\n      <td id=\"T_958af_row1_col5\" class=\"data row1 col5\" >Thu, 23 Jun 2022</td>\n      <td id=\"T_958af_row1_col6\" class=\"data row1 col6\" ><a target=\"_blank\" href=\"https://pythonjobs.github.io//jobs/open-data-services-co-operative-python-software-developer.html\">https://pythonjobs.github.io//jobs/open-data-services-co-operative-python-software-developer.html</a></td>\n    </tr>\n    <tr>\n      <th id=\"T_958af_level0_row2\" class=\"row_heading level0 row2\" >2</th>\n      <td id=\"T_958af_row2_col0\" class=\"data row2 col0\" >Senior Software Engineer, Back-End (Remote)</td>\n      <td id=\"T_958af_row2_col1\" class=\"data row2 col1\" >Oomnitza</td>\n      <td id=\"T_958af_row2_col2\" class=\"data row2 col2\" >Oomnitza offers enterprise IT a unique solution to manage the entirety of the digital estate. Unlike our competitors, who deliver siloed solutions, Oomnitza offers granular control and orchestration across the...</td>\n      <td id=\"T_958af_row2_col3\" class=\"data row2 col3\" >Galway, Ireland, Remote</td>\n      <td id=\"T_958af_row2_col4\" class=\"data row2 col4\" >permanent</td>\n      <td id=\"T_958af_row2_col5\" class=\"data row2 col5\" >Wed, 30 Mar 2022</td>\n      <td id=\"T_958af_row2_col6\" class=\"data row2 col6\" ><a target=\"_blank\" href=\"https://pythonjobs.github.io//jobs/oomnitza-back-end-sw-enginneer-irl-remote.html\">https://pythonjobs.github.io//jobs/oomnitza-back-end-sw-enginneer-irl-remote.html</a></td>\n    </tr>\n    <tr>\n      <th id=\"T_958af_level0_row3\" class=\"row_heading level0 row3\" >3</th>\n      <td id=\"T_958af_row3_col0\" class=\"data row3 col0\" >Python Backend Engineer</td>\n      <td id=\"T_958af_row3_col1\" class=\"data row3 col1\" >BMAT</td>\n      <td id=\"T_958af_row3_col2\" class=\"data row3 col2\" >What you’ll be doing In the Data team we want to have the most complete music metadata database in the world. As part of our team you will help in any stage: from integrating new sources, enhancing the entity...</td>\n      <td id=\"T_958af_row3_col3\" class=\"data row3 col3\" >Remote</td>\n      <td id=\"T_958af_row3_col4\" class=\"data row3 col4\" >Permanent</td>\n      <td id=\"T_958af_row3_col5\" class=\"data row3 col5\" >Tue, 23 Nov 2021</td>\n      <td id=\"T_958af_row3_col6\" class=\"data row3 col6\" ><a target=\"_blank\" href=\"https://pythonjobs.github.io//jobs/bmat-python-backend-engineer.html\">https://pythonjobs.github.io//jobs/bmat-python-backend-engineer.html</a></td>\n    </tr>\n    <tr>\n      <th id=\"T_958af_level0_row4\" class=\"row_heading level0 row4\" >4</th>\n      <td id=\"T_958af_row4_col0\" class=\"data row4 col0\" >Senior Backend Engineer</td>\n      <td id=\"T_958af_row4_col1\" class=\"data row4 col1\" >BMAT</td>\n      <td id=\"T_958af_row4_col2\" class=\"data row4 col2\" >What you’ll be doing BMAT is teaming up with a global music streaming service to revolutionize the way copyrights and royalties are handled in the online world. As we transition from discovery to an MVP phase, we’re...</td>\n      <td id=\"T_958af_row4_col3\" class=\"data row4 col3\" >Remote</td>\n      <td id=\"T_958af_row4_col4\" class=\"data row4 col4\" >Permanent</td>\n      <td id=\"T_958af_row4_col5\" class=\"data row4 col5\" >Tue, 23 Nov 2021</td>\n      <td id=\"T_958af_row4_col6\" class=\"data row4 col6\" ><a target=\"_blank\" href=\"https://pythonjobs.github.io//jobs/bmat-senior-backend-engineer.html\">https://pythonjobs.github.io//jobs/bmat-senior-backend-engineer.html</a></td>\n    </tr>\n  </tbody>\n</table>\n"
                    },
                    "metadata": {},
                    "execution_count": 2,
                    "output_type": "execute_result"
                }
            ],
            "execution_count": 2
        },
        {
            "cell_type": "code",
            "source": [
                ""
            ],
            "metadata": {
                "language": "python",
                "azdata_cell_guid": "a8e7fded-27bc-4ac3-9b52-ef9a0fb65c06"
            },
            "outputs": [],
            "execution_count": null
        },
        {
            "cell_type": "code",
            "source": [
                ""
            ],
            "metadata": {
                "azdata_cell_guid": "4bb67c41-e76c-41d8-aaf9-c47152a9e717",
                "language": "python"
            },
            "outputs": [],
            "execution_count": null
        }
    ]
}